{
 "cells": [
  {
   "cell_type": "markdown",
   "id": "3c90a074",
   "metadata": {},
   "source": [
    "# ***DATA*** ***STRUCTURE***"
   ]
  },
  {
   "cell_type": "code",
   "execution_count": 1,
   "id": "865800e3",
   "metadata": {},
   "outputs": [
    {
     "name": "stdout",
     "output_type": "stream",
     "text": [
      "My name is: Kashish\n"
     ]
    }
   ],
   "source": [
    "#PRACTICAL QUESTIONS:- \n",
    "\n",
    "\n",
    "#1.Write a code to create a string with your name and print it?\n",
    "\n",
    "my_name = \"Kashish\"\n",
    "print(\"My name is:\", my_name)\n"
   ]
  },
  {
   "cell_type": "code",
   "execution_count": 2,
   "id": "171175dc",
   "metadata": {},
   "outputs": [
    {
     "name": "stdout",
     "output_type": "stream",
     "text": [
      "Length of the string: 12\n"
     ]
    }
   ],
   "source": [
    "#2.Write a code to find the length of the string \"Hello World\"?\n",
    "\n",
    "my_string = \"Hello Python\"\n",
    "print(\"Length of the string:\", len(my_string))\n"
   ]
  },
  {
   "cell_type": "code",
   "execution_count": 3,
   "id": "2f32d2b9",
   "metadata": {},
   "outputs": [
    {
     "name": "stdout",
     "output_type": "stream",
     "text": [
      "First 3 characters: Pyt\n"
     ]
    }
   ],
   "source": [
    "#3.Write a code to slice the first 3 characters from the string \"Python Programming\"?\n",
    "\n",
    "text = \"Python Programming\"\n",
    "sliced_text = text[:3]\n",
    "\n",
    "print(\"First 3 characters:\", sliced_text)\n"
   ]
  },
  {
   "cell_type": "code",
   "execution_count": 4,
   "id": "d59df64a",
   "metadata": {},
   "outputs": [
    {
     "name": "stdout",
     "output_type": "stream",
     "text": [
      "Uppercase: KANHA\n"
     ]
    }
   ],
   "source": [
    "#4.Write a code to convert the string \"hello\" to uppercase?\n",
    "\n",
    "text = \"kanha\"\n",
    "upper_text = text.upper()\n",
    "\n",
    "print(\"Uppercase:\", upper_text)\n"
   ]
  },
  {
   "cell_type": "code",
   "execution_count": 5,
   "id": "12bfe2ff",
   "metadata": {},
   "outputs": [
    {
     "name": "stdout",
     "output_type": "stream",
     "text": [
      "Updated string: I like orange\n"
     ]
    }
   ],
   "source": [
    "#5.Write a code to replace the word \"apple\" with \"orange\" in the string \"I like apple\"?\n",
    "\n",
    "text = \"I like apple\"\n",
    "new_text = text.replace(\"apple\", \"orange\")\n",
    "\n",
    "print(\"Updated string:\", new_text)\n"
   ]
  },
  {
   "cell_type": "code",
   "execution_count": 6,
   "id": "511934c5",
   "metadata": {},
   "outputs": [
    {
     "name": "stdout",
     "output_type": "stream",
     "text": [
      "List of numbers: [1, 2, 3, 4, 5]\n"
     ]
    }
   ],
   "source": [
    "#6.Write a code to create a list with numbers 1 to 5 and print it?\n",
    "\n",
    "numbers = [1, 2, 3, 4, 5]\n",
    "print(\"List of numbers:\", numbers)\n"
   ]
  },
  {
   "cell_type": "code",
   "execution_count": 7,
   "id": "4d8dc79e",
   "metadata": {},
   "outputs": [
    {
     "name": "stdout",
     "output_type": "stream",
     "text": [
      "Updated list: [1, 2, 3, 4, 10]\n"
     ]
    }
   ],
   "source": [
    "#7.Write a code to append the number 10 to the list [1, 2, 3, 4]?\n",
    "\n",
    "numbers = [1, 2, 3, 4]\n",
    "numbers.append(10)\n",
    "\n",
    "print(\"Updated list:\", numbers)\n"
   ]
  },
  {
   "cell_type": "code",
   "execution_count": 8,
   "id": "b1547019",
   "metadata": {},
   "outputs": [
    {
     "name": "stdout",
     "output_type": "stream",
     "text": [
      "Updated list: [1, 2, 4, 5]\n"
     ]
    }
   ],
   "source": [
    "#8.Write a code to remove the number 3 from the list [1, 2, 3, 4, 5]?\n",
    "\n",
    "numbers = [1, 2, 3, 4, 5]\n",
    "numbers.remove(3)\n",
    "\n",
    "print(\"Updated list:\", numbers)\n"
   ]
  },
  {
   "cell_type": "code",
   "execution_count": 9,
   "id": "c305e3cf",
   "metadata": {},
   "outputs": [
    {
     "name": "stdout",
     "output_type": "stream",
     "text": [
      "Second element: b\n"
     ]
    }
   ],
   "source": [
    "#9.Write a code to access the second element in the list ['a', 'b', 'c', 'd']?\n",
    "\n",
    "letters = ['a', 'b', 'c', 'd']\n",
    "second_element = letters[1]\n",
    "\n",
    "print(\"Second element:\", second_element)\n"
   ]
  },
  {
   "cell_type": "code",
   "execution_count": 10,
   "id": "ab5a0f88",
   "metadata": {},
   "outputs": [
    {
     "name": "stdout",
     "output_type": "stream",
     "text": [
      "Reversed list: [50, 40, 30, 20, 10]\n"
     ]
    }
   ],
   "source": [
    "#10.Write a code to reverse the list [10, 20, 30, 40, 50]?\n",
    "\n",
    "numbers = [10, 20, 30, 40, 50]\n",
    "numbers.reverse()\n",
    "\n",
    "print(\"Reversed list:\", numbers)\n"
   ]
  },
  {
   "cell_type": "code",
   "execution_count": 11,
   "id": "399218bc",
   "metadata": {},
   "outputs": [
    {
     "name": "stdout",
     "output_type": "stream",
     "text": [
      "Tuple: (100, 200, 300)\n"
     ]
    }
   ],
   "source": [
    "#11.Write a code to create a tuple with the elements 100, 200, 300 and print it?\n",
    "\n",
    "my_tuple = (100, 200, 300)\n",
    "print(\"Tuple:\", my_tuple)\n"
   ]
  },
  {
   "cell_type": "code",
   "execution_count": 12,
   "id": "33000902",
   "metadata": {},
   "outputs": [
    {
     "name": "stdout",
     "output_type": "stream",
     "text": [
      "Second-to-last element: blue\n"
     ]
    }
   ],
   "source": [
    "#12.Write a code to access the second-to-last element of the tuple ('red', 'green', 'blue', 'yellow')?\n",
    "\n",
    "colors = ('red', 'green', 'blue', 'yellow')\n",
    "second_last = colors[2]\n",
    "\n",
    "print(\"Second-to-last element:\", second_last)\n"
   ]
  },
  {
   "cell_type": "code",
   "execution_count": 13,
   "id": "8d10bc5d",
   "metadata": {},
   "outputs": [
    {
     "name": "stdout",
     "output_type": "stream",
     "text": [
      "Minimum number: 5\n"
     ]
    }
   ],
   "source": [
    "#13.Write a code to find the minimum number in the tuple (10, 20, 5, 15)?\n",
    "\n",
    "numbers = (10, 20, 5, 15)\n",
    "min_number = min(numbers)\n",
    "\n",
    "print(\"Minimum number:\", min_number)\n"
   ]
  },
  {
   "cell_type": "code",
   "execution_count": 14,
   "id": "c7283af5",
   "metadata": {},
   "outputs": [
    {
     "name": "stdout",
     "output_type": "stream",
     "text": [
      "Index of 'cat': 1\n"
     ]
    }
   ],
   "source": [
    "#14.Write a code to find the index of the element \"cat\" in the tuple ('dog', 'cat', 'rabbit')?\n",
    "\n",
    "animals = ('dog', 'cat', 'rabbit')\n",
    "cat_index = animals.index('cat')\n",
    "\n",
    "print(\"Index of 'cat':\", cat_index)\n"
   ]
  },
  {
   "cell_type": "code",
   "execution_count": 15,
   "id": "a8853ace",
   "metadata": {},
   "outputs": [
    {
     "name": "stdout",
     "output_type": "stream",
     "text": [
      "Kiwi is NOT in the tuple.\n"
     ]
    }
   ],
   "source": [
    "#15.Write a code to create a tuple containing three different fruits and check if \"kiwi\" is in it?\n",
    "\n",
    "fruits = ('apple', 'banana', 'mango')\n",
    "\n",
    "if 'kiwi' in fruits:\n",
    "    print(\"Kiwi is in the tuple.\")\n",
    "else:\n",
    "    print(\"Kiwi is NOT in the tuple.\")\n"
   ]
  },
  {
   "cell_type": "code",
   "execution_count": 16,
   "id": "21f45993",
   "metadata": {},
   "outputs": [
    {
     "name": "stdout",
     "output_type": "stream",
     "text": [
      "Set: {'a', 'b', 'c'}\n"
     ]
    }
   ],
   "source": [
    "#16.Write a code to create a set with the elements 'a', 'b', 'c' and print it?\n",
    "\n",
    "my_set = {'a', 'b', 'c'}\n",
    "print(\"Set:\", my_set)\n"
   ]
  },
  {
   "cell_type": "code",
   "execution_count": 17,
   "id": "4b22e9ab",
   "metadata": {},
   "outputs": [
    {
     "name": "stdout",
     "output_type": "stream",
     "text": [
      "Cleared set: set()\n"
     ]
    }
   ],
   "source": [
    "#17.Write a code to clear all elements from the set {1, 2, 3, 4, 5}?\n",
    "\n",
    "my_set = {1, 2, 3, 4, 5}\n",
    "my_set.clear()\n",
    "\n",
    "print(\"Cleared set:\", my_set)\n"
   ]
  },
  {
   "cell_type": "code",
   "execution_count": 18,
   "id": "7c151b28",
   "metadata": {},
   "outputs": [
    {
     "name": "stdout",
     "output_type": "stream",
     "text": [
      "Updated set: {1, 2, 3}\n"
     ]
    }
   ],
   "source": [
    "#18.Write a code to remove the element 4 from the set {1, 2, 3, 4}?\n",
    "\n",
    "my_set = {1, 2, 3, 4}\n",
    "my_set.remove(4)\n",
    "\n",
    "print(\"Updated set:\", my_set)\n"
   ]
  },
  {
   "cell_type": "code",
   "execution_count": 19,
   "id": "e4e8186b",
   "metadata": {},
   "outputs": [
    {
     "name": "stdout",
     "output_type": "stream",
     "text": [
      "Union of sets: {1, 2, 3, 4, 5}\n"
     ]
    }
   ],
   "source": [
    "#19.Write a code to find the union of two sets {1, 2, 3} and {3, 4, 5}?\n",
    "\n",
    "set1 = {1, 2, 3}\n",
    "set2 = {3, 4, 5}\n",
    "\n",
    "union_set = set1.union(set2)\n",
    "\n",
    "print(\"Union of sets:\", union_set)\n"
   ]
  },
  {
   "cell_type": "code",
   "execution_count": 20,
   "id": "1a088644",
   "metadata": {},
   "outputs": [
    {
     "name": "stdout",
     "output_type": "stream",
     "text": [
      "Intersection of sets: {2, 3}\n"
     ]
    }
   ],
   "source": [
    "#20.Write a code to find the intersection of two sets {1, 2, 3} and {2, 3, 4}?\n",
    "\n",
    "set1 = {1, 2, 3}\n",
    "set2 = {2, 3, 4}\n",
    "\n",
    "intersection_set = set1.intersection(set2)\n",
    "\n",
    "print(\"Intersection of sets:\", intersection_set)\n"
   ]
  },
  {
   "cell_type": "code",
   "execution_count": 21,
   "id": "2e8c31d1",
   "metadata": {},
   "outputs": [
    {
     "name": "stdout",
     "output_type": "stream",
     "text": [
      "Dictionary: {'name': 'Krishna', 'age': 23, 'city': 'Vrindavan'}\n"
     ]
    }
   ],
   "source": [
    "#21.Write a code to create a dictionary with the keys \"name\", \"age\", and \"city\", and print it?\n",
    "\n",
    "person = {\n",
    "    \"name\": \"Krishna\",\n",
    "    \"age\": 23,\n",
    "    \"city\": \"Vrindavan\"\n",
    "}\n",
    "\n",
    "print(\"Dictionary:\", person)\n"
   ]
  },
  {
   "cell_type": "code",
   "execution_count": 22,
   "id": "6fda0384",
   "metadata": {},
   "outputs": [
    {
     "name": "stdout",
     "output_type": "stream",
     "text": [
      "Updated dictionary: {'name': 'John', 'age': 25, 'country': 'USA'}\n"
     ]
    }
   ],
   "source": [
    "#22.Write a code to add a new key-value pair \"country\": \"USA\" to the dictionary {'name': 'John', 'age': 25}?\n",
    "\n",
    "person = {'name': 'John', 'age': 25}\n",
    "\n",
    "person['country'] = 'USA'\n",
    "\n",
    "print(\"Updated dictionary:\", person)\n"
   ]
  },
  {
   "cell_type": "code",
   "execution_count": 23,
   "id": "fc66a4aa",
   "metadata": {},
   "outputs": [
    {
     "name": "stdout",
     "output_type": "stream",
     "text": [
      "Value of 'name': Alice\n"
     ]
    }
   ],
   "source": [
    "#23.Write a code to access the value associated with the key \"name\" in the dictionary {'name': 'Alice', 'age': 30}?\n",
    "\n",
    "person = {'name': 'Alice', 'age': 30}\n",
    "name_value = person['name']\n",
    "\n",
    "print(\"Value of 'name':\", name_value)\n"
   ]
  },
  {
   "cell_type": "code",
   "execution_count": 24,
   "id": "2593d327",
   "metadata": {},
   "outputs": [
    {
     "name": "stdout",
     "output_type": "stream",
     "text": [
      "Updated dictionary: {'name': 'Bob', 'city': 'New York'}\n"
     ]
    }
   ],
   "source": [
    "#24.Write a code to remove the key \"age\" from the dictionary {'name': 'Bob', 'age': 22, 'city': 'New York'}?\n",
    "\n",
    "person = {'name': 'Bob', 'age': 22, 'city': 'New York'}\n",
    "person.pop('age')\n",
    "\n",
    "print(\"Updated dictionary:\", person)\n"
   ]
  },
  {
   "cell_type": "code",
   "execution_count": 25,
   "id": "0641fdca",
   "metadata": {},
   "outputs": [
    {
     "name": "stdout",
     "output_type": "stream",
     "text": [
      "The key 'city' exists in the dictionary.\n"
     ]
    }
   ],
   "source": [
    "#25.Write a code to check if the key \"city\" exists in the dictionary {'name': 'Alice', 'city': 'Paris'}?\n",
    "\n",
    "person = {'name': 'Alice', 'city': 'Paris'}\n",
    "\n",
    "if 'city' in person:\n",
    "    print(\"The key 'city' exists in the dictionary.\")\n",
    "else:\n",
    "    print(\"The key 'city' does NOT exist in the dictionary.\")\n"
   ]
  },
  {
   "cell_type": "code",
   "execution_count": 26,
   "id": "079e8bc9",
   "metadata": {},
   "outputs": [
    {
     "name": "stdout",
     "output_type": "stream",
     "text": [
      "List: [1, 2, 3, 4, 5]\n",
      "Tuple: ('apple', 'banana', 'cherry')\n",
      "Dictionary: {'name': 'Alice', 'age': 30, 'city': 'Paris'}\n"
     ]
    }
   ],
   "source": [
    "#26.Write a code to create a list, a tuple, and a dictionary, and print them all?\n",
    "\n",
    "my_list = [1, 2, 3, 4, 5]\n",
    "my_tuple = ('apple', 'banana', 'cherry')\n",
    "my_dict = {'name': 'Alice', 'age': 30, 'city': 'Paris'}\n",
    "\n",
    "print(\"List:\", my_list)\n",
    "print(\"Tuple:\", my_tuple)\n",
    "print(\"Dictionary:\", my_dict)\n"
   ]
  },
  {
   "cell_type": "code",
   "execution_count": 27,
   "id": "9891a863",
   "metadata": {},
   "outputs": [
    {
     "name": "stdout",
     "output_type": "stream",
     "text": [
      "Sorted random numbers: [8, 8, 39, 50, 56]\n"
     ]
    }
   ],
   "source": [
    "#27.Write a code to create a list of 5 random numbers between 1 and 100, sort it in ascending order, and print the result.(replaced)?\n",
    "\n",
    "import random\n",
    "random_numbers = [random.randint(1, 100) for _ in range(5)]\n",
    "\n",
    "random_numbers.sort()\n",
    "\n",
    "print(\"Sorted random numbers:\", random_numbers)\n",
    "\n",
    "\n"
   ]
  },
  {
   "cell_type": "code",
   "execution_count": 28,
   "id": "79c1c5bb",
   "metadata": {},
   "outputs": [
    {
     "name": "stdout",
     "output_type": "stream",
     "text": [
      "Element at third index: date\n"
     ]
    }
   ],
   "source": [
    "#28.Write a code to create a list with strings and print the element at the third index?\n",
    "\n",
    "words = [\"apple\", \"banana\", \"cherry\", \"date\", \"orange\"]\n",
    "\n",
    "print(\"Element at third index:\", words[3])\n"
   ]
  },
  {
   "cell_type": "code",
   "execution_count": 29,
   "id": "674f838a",
   "metadata": {},
   "outputs": [
    {
     "name": "stdout",
     "output_type": "stream",
     "text": [
      "Combined dictionary: {'name': 'Alice', 'age': 25, 'city': 'Paris', 'country': 'France'}\n"
     ]
    }
   ],
   "source": [
    "#29.Write a code to combine two dictionaries into one and print the result?\n",
    "\n",
    "dict1 = {'name': 'Alice', 'age': 25}\n",
    "dict2 = {'city': 'Paris', 'country': 'France'}\n",
    "\n",
    "combined_dict = {**dict1, **dict2}\n",
    "\n",
    "print(\"Combined dictionary:\", combined_dict)\n"
   ]
  },
  {
   "cell_type": "code",
   "execution_count": 30,
   "id": "366f305a",
   "metadata": {},
   "outputs": [
    {
     "name": "stdout",
     "output_type": "stream",
     "text": [
      "Set: {'apple', 'banana', 'cherry'}\n"
     ]
    }
   ],
   "source": [
    "#30.Write a code to convert a list of strings into a set?\n",
    "\n",
    "string_list = [\"apple\", \"banana\", \"cherry\", \"apple\", \"banana\"]\n",
    "string_set = set(string_list)\n",
    "\n",
    "print(\"Set:\", string_set)\n"
   ]
  }
 ],
 "metadata": {
  "kernelspec": {
   "display_name": "base",
   "language": "python",
   "name": "python3"
  },
  "language_info": {
   "codemirror_mode": {
    "name": "ipython",
    "version": 3
   },
   "file_extension": ".py",
   "mimetype": "text/x-python",
   "name": "python",
   "nbconvert_exporter": "python",
   "pygments_lexer": "ipython3",
   "version": "3.12.7"
  }
 },
 "nbformat": 4,
 "nbformat_minor": 5
}
